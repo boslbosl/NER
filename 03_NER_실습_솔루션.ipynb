{
  "nbformat": 4,
  "nbformat_minor": 0,
  "metadata": {
    "colab": {
      "name": "03_NER_실습.ipynb",
      "provenance": []
    },
    "kernelspec": {
      "name": "python3",
      "display_name": "Python 3"
    },
    "language_info": {
      "name": "python"
    },
    "accelerator": "GPU",
    "gpuClass": "standard"
  },
  "cells": [
    {
      "cell_type": "code",
      "execution_count": 1,
      "metadata": {
        "id": "mMTLFoeI-Saa",
        "outputId": "5e210841-ca07-49fc-aa2f-21b1b28d0642",
        "colab": {
          "base_uri": "https://localhost:8080/"
        }
      },
      "outputs": [
        {
          "output_type": "stream",
          "name": "stdout",
          "text": [
            "Wed Jul  5 05:06:17 2023       \n",
            "+-----------------------------------------------------------------------------+\n",
            "| NVIDIA-SMI 525.85.12    Driver Version: 525.85.12    CUDA Version: 12.0     |\n",
            "|-------------------------------+----------------------+----------------------+\n",
            "| GPU  Name        Persistence-M| Bus-Id        Disp.A | Volatile Uncorr. ECC |\n",
            "| Fan  Temp  Perf  Pwr:Usage/Cap|         Memory-Usage | GPU-Util  Compute M. |\n",
            "|                               |                      |               MIG M. |\n",
            "|===============================+======================+======================|\n",
            "|   0  Tesla T4            Off  | 00000000:00:04.0 Off |                    0 |\n",
            "| N/A   59C    P8    10W /  70W |      0MiB / 15360MiB |      0%      Default |\n",
            "|                               |                      |                  N/A |\n",
            "+-------------------------------+----------------------+----------------------+\n",
            "                                                                               \n",
            "+-----------------------------------------------------------------------------+\n",
            "| Processes:                                                                  |\n",
            "|  GPU   GI   CI        PID   Type   Process name                  GPU Memory |\n",
            "|        ID   ID                                                   Usage      |\n",
            "|=============================================================================|\n",
            "|  No running processes found                                                 |\n",
            "+-----------------------------------------------------------------------------+\n"
          ]
        }
      ],
      "source": [
        "!nvidia-smi"
      ]
    },
    {
      "cell_type": "markdown",
      "source": [
        "# PyKomoran 형태소분석기 설치"
      ],
      "metadata": {
        "id": "VK3ANBIf-c1J"
      }
    },
    {
      "cell_type": "code",
      "source": [
        "!pip install PyKomoran"
      ],
      "metadata": {
        "id": "_c8QRQI7-bLz",
        "outputId": "bad98029-5c50-48bd-c8c9-01ff3b89db24",
        "colab": {
          "base_uri": "https://localhost:8080/"
        }
      },
      "execution_count": 2,
      "outputs": [
        {
          "output_type": "stream",
          "name": "stdout",
          "text": [
            "Collecting PyKomoran\n",
            "  Downloading PyKomoran-0.1.6.post1-py3-none-any.whl (6.4 MB)\n",
            "\u001b[2K     \u001b[90m━━━━━━━━━━━━━━━━━━━━━━━━━━━━━━━━━━━━━━━━\u001b[0m \u001b[32m6.4/6.4 MB\u001b[0m \u001b[31m87.0 MB/s\u001b[0m eta \u001b[36m0:00:00\u001b[0m\n",
            "\u001b[?25hCollecting py4j==0.10.9.2 (from PyKomoran)\n",
            "  Downloading py4j-0.10.9.2-py2.py3-none-any.whl (198 kB)\n",
            "\u001b[2K     \u001b[90m━━━━━━━━━━━━━━━━━━━━━━━━━━━━━━━━━━━━━━\u001b[0m \u001b[32m198.8/198.8 kB\u001b[0m \u001b[31m28.7 MB/s\u001b[0m eta \u001b[36m0:00:00\u001b[0m\n",
            "\u001b[?25hInstalling collected packages: py4j, PyKomoran\n",
            "  Attempting uninstall: py4j\n",
            "    Found existing installation: py4j 0.10.9.7\n",
            "    Uninstalling py4j-0.10.9.7:\n",
            "      Successfully uninstalled py4j-0.10.9.7\n",
            "Successfully installed PyKomoran-0.1.6.post1 py4j-0.10.9.2\n"
          ]
        }
      ]
    },
    {
      "cell_type": "markdown",
      "source": [
        "# 실습 자료 다운로드"
      ],
      "metadata": {
        "id": "b_-OSXXg-fev"
      }
    },
    {
      "cell_type": "code",
      "source": [
        "!git clone https://github.com/bg-choi/NER.git"
      ],
      "metadata": {
        "id": "thPns5RV-gCP",
        "outputId": "611c2ccc-454f-4be6-eb6a-6587a00dffd1",
        "colab": {
          "base_uri": "https://localhost:8080/"
        }
      },
      "execution_count": 3,
      "outputs": [
        {
          "output_type": "stream",
          "name": "stdout",
          "text": [
            "Cloning into 'NER'...\n",
            "remote: Enumerating objects: 39, done.\u001b[K\n",
            "remote: Counting objects: 100% (39/39), done.\u001b[K\n",
            "remote: Compressing objects: 100% (34/34), done.\u001b[K\n",
            "remote: Total 39 (delta 18), reused 16 (delta 5), pack-reused 0\u001b[K\n",
            "Unpacking objects: 100% (39/39), 10.06 MiB | 4.58 MiB/s, done.\n"
          ]
        }
      ]
    },
    {
      "cell_type": "markdown",
      "source": [
        "# 디바이스 확인"
      ],
      "metadata": {
        "id": "KfTaNMm4-hSC"
      }
    },
    {
      "cell_type": "code",
      "source": [
        "import torch\n",
        "\n",
        "device = torch.device(\"cuda\" if torch.cuda.is_available() else \"cpu\")\n",
        "n_gpu = torch.cuda.device_count()\n",
        "print(\"DEVICE: {} || # GPU: {}\".format(device, n_gpu))"
      ],
      "metadata": {
        "id": "sgqLRh4D-kCT",
        "outputId": "ae178b41-d940-44ce-aca1-cecb71089114",
        "colab": {
          "base_uri": "https://localhost:8080/"
        }
      },
      "execution_count": 4,
      "outputs": [
        {
          "output_type": "stream",
          "name": "stdout",
          "text": [
            "DEVICE: cuda || # GPU: 1\n"
          ]
        }
      ]
    },
    {
      "cell_type": "markdown",
      "source": [
        "# 시드 세팅"
      ],
      "metadata": {
        "id": "aXINu8pN-qTy"
      }
    },
    {
      "cell_type": "code",
      "source": [
        "import random\n",
        "import numpy as np\n",
        "\n",
        "seed = 42\n",
        "random.seed(seed)\n",
        "np.random.seed(seed)\n",
        "torch.manual_seed(seed)\n",
        "if n_gpu > 0:\n",
        "    torch.cuda.manual_seed_all(seed)"
      ],
      "metadata": {
        "id": "HwUa5z6U-nf8"
      },
      "execution_count": 5,
      "outputs": []
    },
    {
      "cell_type": "markdown",
      "source": [
        "# 데이터 로딩"
      ],
      "metadata": {
        "id": "U94POV8I-vXV"
      }
    },
    {
      "cell_type": "markdown",
      "source": [
        "## 데이터 로딩 함수 정의"
      ],
      "metadata": {
        "id": "wq8B3eNt-yBu"
      }
    },
    {
      "cell_type": "code",
      "source": [
        "import os\n",
        "import json\n",
        "\n",
        "def load_json(file_dir, file_name):\n",
        "    with open(os.path.join(file_dir, file_name), 'r') as fin:\n",
        "        return json.load(fin)"
      ],
      "metadata": {
        "id": "GQ9xmuiq-uXX"
      },
      "execution_count": 6,
      "outputs": []
    },
    {
      "cell_type": "markdown",
      "source": [
        "## 데이터 로딩"
      ],
      "metadata": {
        "id": "WxL2OUE2-s7e"
      }
    },
    {
      "cell_type": "code",
      "source": [
        "train_raw = load_json('./NER/', 'train.json')\n",
        "valid_raw = load_json('./NER/', 'valid.json')\n",
        "test_raw = load_json('./NER/', 'test.json')\n",
        "\n",
        "print(\"The number of train data: {}\".format(len(train_raw)))\n",
        "print(\"The number of dev data: {}\".format(len(valid_raw)))\n",
        "print(\"The number of test data: {}\".format(len(test_raw)))"
      ],
      "metadata": {
        "id": "IVq2Ul1w-2WC",
        "outputId": "d71f8cf5-978e-422e-ddd2-e164163cafb2",
        "colab": {
          "base_uri": "https://localhost:8080/"
        }
      },
      "execution_count": 7,
      "outputs": [
        {
          "output_type": "stream",
          "name": "stdout",
          "text": [
            "The number of train data: 6000\n",
            "The number of dev data: 2000\n",
            "The number of test data: 2000\n"
          ]
        }
      ]
    },
    {
      "cell_type": "markdown",
      "source": [
        "# 데이터 타입 및 구조 확인"
      ],
      "metadata": {
        "id": "SBtjlUCz-5nH"
      }
    },
    {
      "cell_type": "code",
      "source": [
        "\"\"\"\n",
        "로딩한 데이터의 타입과 구조를 확인하시오.\n",
        "\"\"\"\n",
        "print(\"Raw type\")\n",
        "print(type(train_raw))"
      ],
      "metadata": {
        "id": "Cn_HvYx4-4Is",
        "outputId": "0b5bff11-122d-4eab-d31d-23dde54424ee",
        "colab": {
          "base_uri": "https://localhost:8080/"
        }
      },
      "execution_count": 8,
      "outputs": [
        {
          "output_type": "stream",
          "name": "stdout",
          "text": [
            "Raw type\n",
            "<class 'list'>\n"
          ]
        }
      ]
    },
    {
      "cell_type": "code",
      "source": [
        "print(\"Data type\")\n",
        "print(type(train_raw[1]))"
      ],
      "metadata": {
        "id": "TcFh---MfDJG",
        "outputId": "90dff654-1e57-4fd6-f52c-c8c52cb15e60",
        "colab": {
          "base_uri": "https://localhost:8080/"
        }
      },
      "execution_count": 9,
      "outputs": [
        {
          "output_type": "stream",
          "name": "stdout",
          "text": [
            "Data type\n",
            "<class 'dict'>\n"
          ]
        }
      ]
    },
    {
      "cell_type": "code",
      "source": [
        "for k, v in train_raw[1].items():\n",
        "    print(k, ':', v)"
      ],
      "metadata": {
        "id": "CleEtEv8fVT-",
        "outputId": "70321d74-deef-4eb5-be5a-a427b84fc094",
        "colab": {
          "base_uri": "https://localhost:8080/"
        }
      },
      "execution_count": 10,
      "outputs": [
        {
          "output_type": "stream",
          "name": "stdout",
          "text": [
            "text : 장병의 이모이자 어머니이기도 한 김씨는 사단 모범식당 선발에 평가관으로도 활약하고 있다.\n",
            "ne : [{'id': 1, 'form': '장병', 'label': 'CV', 'begin': 0, 'end': 2}, {'id': 2, 'form': '이모', 'label': 'CV', 'begin': 4, 'end': 6}, {'id': 3, 'form': '어머니', 'label': 'CV', 'begin': 9, 'end': 12}, {'id': 4, 'form': '김', 'label': 'PS', 'begin': 18, 'end': 19}, {'id': 5, 'form': '평가관', 'label': 'CV', 'begin': 34, 'end': 37}]\n",
            "tokens : [{'id': 0, 'token': '장병/NNG', 'label': 'B-CV'}, {'id': 1, 'token': '의/JKG', 'label': 'O'}, {'id': 2, 'token': '이모/NNP', 'label': 'B-CV'}, {'id': 3, 'token': '이자/NNP', 'label': 'O'}, {'id': 4, 'token': '어머니/NNG', 'label': 'B-CV'}, {'id': 5, 'token': '이/VCP', 'label': 'O'}, {'id': 6, 'token': '기/ETN', 'label': 'O'}, {'id': 7, 'token': '도/JX', 'label': 'O'}, {'id': 8, 'token': '한/MM', 'label': 'O'}, {'id': 9, 'token': '김/NNP', 'label': 'B-PS'}, {'id': 10, 'token': '씨/NNB', 'label': 'O'}, {'id': 11, 'token': '는/JX', 'label': 'O'}, {'id': 12, 'token': '사단/NNP', 'label': 'O'}, {'id': 13, 'token': '모범/NNG', 'label': 'O'}, {'id': 14, 'token': '식당/NNP', 'label': 'O'}, {'id': 15, 'token': '선발/NNG', 'label': 'O'}, {'id': 16, 'token': '에/JKB', 'label': 'O'}, {'id': 17, 'token': '평가/NNG', 'label': 'B-CV'}, {'id': 18, 'token': '관/NNG', 'label': 'I-CV'}, {'id': 19, 'token': '으로/JKB', 'label': 'O'}, {'id': 20, 'token': '도/JX', 'label': 'O'}, {'id': 21, 'token': '활약/NNG', 'label': 'O'}, {'id': 22, 'token': '하/XSV', 'label': 'O'}, {'id': 23, 'token': '고/EC', 'label': 'O'}, {'id': 24, 'token': '있/VX', 'label': 'O'}, {'id': 25, 'token': '다/EF', 'label': 'O'}, {'id': 26, 'token': './SF', 'label': 'O'}]\n"
          ]
        }
      ]
    },
    {
      "cell_type": "code",
      "source": [],
      "metadata": {
        "id": "tW8TNeqZfQt0"
      },
      "execution_count": null,
      "outputs": []
    },
    {
      "cell_type": "markdown",
      "source": [
        "# PyKomoran을 이용한 형태소 분석"
      ],
      "metadata": {
        "id": "OtCdk_mf-9z0"
      }
    },
    {
      "cell_type": "code",
      "source": [
        "from PyKomoran import Komoran\n",
        "\n",
        "pos_tagger = Komoran('EXP')\n",
        "pos_tagged_text = pos_tagger.get_list(train_raw[1]['text'])\n",
        "print(pos_tagged_text)\n",
        "for token in pos_tagged_text:\n",
        "    morpheme, pos = str(token).split(\"/\")\n",
        "    print(\"{}/\\t{}\".format(morpheme, pos))"
      ],
      "metadata": {
        "id": "xy_y3FPc-7gk",
        "outputId": "c251cb84-78fb-47cf-97c8-bed13e5fa391",
        "colab": {
          "base_uri": "https://localhost:8080/"
        }
      },
      "execution_count": 11,
      "outputs": [
        {
          "output_type": "stream",
          "name": "stdout",
          "text": [
            "[장병/NNG, 의/JKG, 이모/NNG, 이/VCP, 자/EC, 어머니/NNG, 이/VCP, 기/ETN, 도/JX, 한/MM, 김/NNP, 씨/NNB, 는/JX, 사단/NNG, 모범/NNG, 식당/NNG, 선발/NNG, 에/JKB, 평가관/NNG, 으로/JKB, 도/JX, 활약/NNG, 하/XSV, 고/EC, 있/VX, 다/EF, ./SF]\n",
            "장병/\tNNG\n",
            "의/\tJKG\n",
            "이모/\tNNG\n",
            "이/\tVCP\n",
            "자/\tEC\n",
            "어머니/\tNNG\n",
            "이/\tVCP\n",
            "기/\tETN\n",
            "도/\tJX\n",
            "한/\tMM\n",
            "김/\tNNP\n",
            "씨/\tNNB\n",
            "는/\tJX\n",
            "사단/\tNNG\n",
            "모범/\tNNG\n",
            "식당/\tNNG\n",
            "선발/\tNNG\n",
            "에/\tJKB\n",
            "평가관/\tNNG\n",
            "으로/\tJKB\n",
            "도/\tJX\n",
            "활약/\tNNG\n",
            "하/\tXSV\n",
            "고/\tEC\n",
            "있/\tVX\n",
            "다/\tEF\n",
            "./\tSF\n"
          ]
        }
      ]
    },
    {
      "cell_type": "markdown",
      "source": [
        "# 실습 - 문장을 입력하고 komoran 함수를 사용해 형태소 분석 해보기"
      ],
      "metadata": {
        "id": "EP4deTC6_BGw"
      }
    },
    {
      "cell_type": "code",
      "source": [
        "\"\"\" [실습] 원하는 문장을 Komoran을 이용해 형태소 분석하고 출력 해보세요 \"\"\"\n",
        "text = \"무궁화꽃이 피었습니다\"\n",
        "\n",
        "pos_tagged_text = pos_tagger.get_list(text)\n",
        "print(pos_tagged_text)\n",
        "for token in pos_tagged_text:\n",
        "    morpheme, pos = str(token).split(\"/\")\n",
        "    print(\"{}/\\t{}\".format(morpheme, pos))"
      ],
      "metadata": {
        "id": "SG45oNEx-_Sq",
        "outputId": "c1af03e6-de93-4c8e-f1f5-e336b37fe06f",
        "colab": {
          "base_uri": "https://localhost:8080/"
        }
      },
      "execution_count": 13,
      "outputs": [
        {
          "output_type": "stream",
          "name": "stdout",
          "text": [
            "[무궁화꽃/NNG, 이/JKS, 피/VV, 었/EP, 습니다/EF]\n",
            "무궁화꽃/\tNNG\n",
            "이/\tJKS\n",
            "피/\tVV\n",
            "었/\tEP\n",
            "습니다/\tEF\n"
          ]
        }
      ]
    },
    {
      "cell_type": "markdown",
      "source": [
        "# 데이터 정형화 함수 정의"
      ],
      "metadata": {
        "id": "mNBUZVON_Cw7"
      }
    },
    {
      "cell_type": "code",
      "source": [
        "def formalize_inputs(dataset):\n",
        "    x_inputs = list()\n",
        "    y_inputs = list()\n",
        "\n",
        "    \"\"\"\n",
        "    하나의 컨텍스트를 토큰화된 단위로 리스트에 저장한 후,\n",
        "    모든 컨텍스트를 x_inputs에 저장하시오.\n",
        "\n",
        "    각 토큰에 상응하는 label을 리스트에 저장한 후,\n",
        "    모든 컨텍스트에 대한 label들을 y_inputs에 저장하시오.\n",
        "    \"\"\"\n",
        "\n",
        "    for data in dataset:\n",
        "        x_temp = []\n",
        "        y_temp = []\n",
        "\n",
        "        for d in data['tokens']:\n",
        "            x_temp.append(d['token'])\n",
        "            y_temp.append(d['label'])\n",
        "\n",
        "        x_inputs.append(x_temp)\n",
        "        y_inputs.append(y_temp)\n",
        "\n",
        "\n",
        "    return x_inputs, y_inputs"
      ],
      "metadata": {
        "id": "D9dIu7Lg_HAV"
      },
      "execution_count": 14,
      "outputs": []
    },
    {
      "cell_type": "markdown",
      "source": [
        "# 데이터 정형화"
      ],
      "metadata": {
        "id": "pQwrTrVE_IsZ"
      }
    },
    {
      "cell_type": "code",
      "source": [
        "x_train, y_train = formalize_inputs(train_raw)\n",
        "x_valid, y_valid = formalize_inputs(valid_raw)\n",
        "\n",
        "for x, y in zip(x_train[1], y_train[1]):\n",
        "    print(\"{} : {}\".format(x, y))"
      ],
      "metadata": {
        "id": "J7ynv5zo_IWS",
        "outputId": "aed70968-3454-4db1-82de-93aa47e91550",
        "colab": {
          "base_uri": "https://localhost:8080/"
        }
      },
      "execution_count": 15,
      "outputs": [
        {
          "output_type": "stream",
          "name": "stdout",
          "text": [
            "장병/NNG : B-CV\n",
            "의/JKG : O\n",
            "이모/NNP : B-CV\n",
            "이자/NNP : O\n",
            "어머니/NNG : B-CV\n",
            "이/VCP : O\n",
            "기/ETN : O\n",
            "도/JX : O\n",
            "한/MM : O\n",
            "김/NNP : B-PS\n",
            "씨/NNB : O\n",
            "는/JX : O\n",
            "사단/NNP : O\n",
            "모범/NNG : O\n",
            "식당/NNP : O\n",
            "선발/NNG : O\n",
            "에/JKB : O\n",
            "평가/NNG : B-CV\n",
            "관/NNG : I-CV\n",
            "으로/JKB : O\n",
            "도/JX : O\n",
            "활약/NNG : O\n",
            "하/XSV : O\n",
            "고/EC : O\n",
            "있/VX : O\n",
            "다/EF : O\n",
            "./SF : O\n"
          ]
        }
      ]
    },
    {
      "cell_type": "markdown",
      "source": [
        "# 단어 집합, 단어 인덱서, 레이블 집합 구축"
      ],
      "metadata": {
        "id": "M9jTutIP_NLn"
      }
    },
    {
      "cell_type": "markdown",
      "source": [
        "![image.png](data:image/png;base64,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)"
      ],
      "metadata": {
        "id": "v5ZIcbxnF4sJ"
      }
    },
    {
      "cell_type": "code",
      "source": [
        "token_set = set()\n",
        "token2idx = dict()\n",
        "label_set = set()\n",
        "n_tokens = 0\n",
        "n_labels = 0\n",
        "max_seq_length = 0\n",
        "\n",
        "\"\"\"\n",
        "단어 집합 (token_set), token2idx, 레이블 집합(label_set), 최장 시퀀스 길이(max_seq_length)를 구축하시오.\n",
        "\"\"\"\n",
        "\n",
        "for data in (x_train + x_valid):\n",
        "    if len(data) > max_seq_length:\n",
        "        max_seq_length = len(data)\n",
        "\n",
        "    token_set.update(data)\n",
        "\n",
        "token2idx = {\n",
        "    '<pad>': 0,\n",
        "    '<unk>': 1\n",
        "}\n",
        "\n",
        "for idx, token in enumerate(sorted(token_set)):\n",
        "    token2idx[token] = idx + 2\n",
        "\n",
        "for label in (y_train + y_valid):\n",
        "    label_set.update(label)\n",
        "\n",
        "n_tokens = len(token2idx)\n",
        "n_labels = len(label_set)\n",
        "\n",
        "print(\"The number of tokens: {}\".format(n_tokens))\n",
        "print(\"The number of labels: {}\".format(n_labels))\n",
        "print(\"Max sequence length: {}\".format(max_seq_length))"
      ],
      "metadata": {
        "id": "vOIpIn3M_LK_",
        "outputId": "02b87a92-0652-4eba-ad4d-f732a0b9b9bb",
        "colab": {
          "base_uri": "https://localhost:8080/"
        }
      },
      "execution_count": 16,
      "outputs": [
        {
          "output_type": "stream",
          "name": "stdout",
          "text": [
            "The number of tokens: 19479\n",
            "The number of labels: 31\n",
            "Max sequence length: 149\n"
          ]
        }
      ]
    },
    {
      "cell_type": "markdown",
      "source": [
        "# token들을 index로 변환하는 함수"
      ],
      "metadata": {
        "id": "rM6GtCmu_SIB"
      }
    },
    {
      "cell_type": "code",
      "source": [
        "def convert_token_to_idx(data, token2idx, max_seq_length):\n",
        "    return_data = list()\n",
        "    for d in data:\n",
        "        temp = list()\n",
        "        for token in d:\n",
        "            if token in token2idx.keys():\n",
        "                temp.append(token2idx[token])\n",
        "            else:\n",
        "                temp.append(token2idx['<unk>'])\n",
        "\n",
        "        if len(temp) >= max_seq_length:\n",
        "            temp = temp[:max_seq_length]\n",
        "        else:\n",
        "            padding = [token2idx['<pad>']] * (max_seq_length - len(temp))\n",
        "            temp += padding\n",
        "\n",
        "        return_data.append(temp)\n",
        "\n",
        "    return return_data"
      ],
      "metadata": {
        "id": "zzwGb0N8_Qm0"
      },
      "execution_count": 17,
      "outputs": []
    },
    {
      "cell_type": "markdown",
      "source": [
        "# token들을 index로 변환"
      ],
      "metadata": {
        "id": "pEjV83GW_V9E"
      }
    },
    {
      "cell_type": "code",
      "source": [
        "x_train_idx = convert_token_to_idx(x_train, token2idx, max_seq_length)\n",
        "x_valid_idx = convert_token_to_idx(x_valid, token2idx, max_seq_length)\n",
        "\n",
        "for token, idx in zip(x_train[1], x_train_idx[1]):\n",
        "    print(\"{}: {}\".format(token, idx))"
      ],
      "metadata": {
        "id": "8UDgu24Y_TQ9",
        "outputId": "697e1cd1-ff86-4aa4-a2fd-3944423ad883",
        "colab": {
          "base_uri": "https://localhost:8080/"
        }
      },
      "execution_count": 18,
      "outputs": [
        {
          "output_type": "stream",
          "name": "stdout",
          "text": [
            "장병/NNG: 14431\n",
            "의/JKG: 13385\n",
            "이모/NNP: 13563\n",
            "이자/NNP: 13718\n",
            "어머니/NNG: 11650\n",
            "이/VCP: 13467\n",
            "기/ETN: 3645\n",
            "도/JX: 5408\n",
            "한/MM: 18400\n",
            "김/NNP: 3847\n",
            "씨/NNB: 11053\n",
            "는/JX: 4762\n",
            "사단/NNP: 8807\n",
            "모범/NNG: 6825\n",
            "식당/NNP: 10700\n",
            "선발/NNG: 9522\n",
            "에/JKB: 11799\n",
            "평가/NNG: 17911\n",
            "관/NNG: 2873\n",
            "으로/JKB: 13291\n",
            "도/JX: 5408\n",
            "활약/NNG: 19209\n",
            "하/XSV: 18267\n",
            "고/EC: 2458\n",
            "있/VX: 14148\n",
            "다/EF: 4826\n",
            "./SF: 27\n"
          ]
        }
      ]
    },
    {
      "cell_type": "markdown",
      "source": [
        "# Label들을 index로 변환하는 함수"
      ],
      "metadata": {
        "id": "NrZKTi5g_ZZQ"
      }
    },
    {
      "cell_type": "code",
      "source": [
        "def convert_label_to_idx(data, label2idx, max_seq_length):\n",
        "    return_data = list()\n",
        "    for labels in data:\n",
        "        temp = list()\n",
        "\n",
        "        for label in labels:\n",
        "            temp.append(label2idx[label])\n",
        "\n",
        "        if len(temp) >= max_seq_length:\n",
        "            temp = temp[:max_seq_length]\n",
        "        else:\n",
        "            padding = [-100] * (max_seq_length - len(temp))\n",
        "            temp += padding\n",
        "\n",
        "        return_data.append(temp)\n",
        "\n",
        "    return return_data"
      ],
      "metadata": {
        "id": "L0IPbxfx_XSx"
      },
      "execution_count": 20,
      "outputs": []
    },
    {
      "cell_type": "markdown",
      "source": [
        "# Label들을 index로 변환"
      ],
      "metadata": {
        "id": "QQTtzBnA_cid"
      }
    },
    {
      "cell_type": "code",
      "source": [
        "label2idx = dict()\n",
        "idx2label = dict()\n",
        "label_set = sorted(list(label_set))\n",
        "for idx, label in enumerate(label_set):\n",
        "    label2idx[label] = idx\n",
        "    idx2label[idx] = label\n",
        "\n",
        "for k, v in label2idx.items():\n",
        "    print(\"{}: {}\".format(k, v))\n",
        "\n",
        "y_train_idx = convert_label_to_idx(y_train, label2idx, max_seq_length)\n",
        "y_valid_idx = convert_label_to_idx(y_valid, label2idx, max_seq_length)\n",
        "\n",
        "print()\n",
        "\n",
        "for token, t_idx, label, l_idx in zip(x_train[1], x_train_idx[1], y_train[1], y_train_idx[1]):\n",
        "    print(\"{}: {}\\t\\t//\\t{}: {}\".format(token, label,  t_idx, l_idx))"
      ],
      "metadata": {
        "id": "-KaMUv35_aqK",
        "outputId": "51f2c0d7-8572-40b0-b6e9-80f737016197",
        "colab": {
          "base_uri": "https://localhost:8080/"
        }
      },
      "execution_count": 21,
      "outputs": [
        {
          "output_type": "stream",
          "name": "stdout",
          "text": [
            "B-AF: 0\n",
            "B-AM: 1\n",
            "B-CV: 2\n",
            "B-DT: 3\n",
            "B-EV: 4\n",
            "B-FD: 5\n",
            "B-LC: 6\n",
            "B-MT: 7\n",
            "B-OG: 8\n",
            "B-PS: 9\n",
            "B-PT: 10\n",
            "B-QT: 11\n",
            "B-TI: 12\n",
            "B-TM: 13\n",
            "B-TR: 14\n",
            "I-AF: 15\n",
            "I-AM: 16\n",
            "I-CV: 17\n",
            "I-DT: 18\n",
            "I-EV: 19\n",
            "I-FD: 20\n",
            "I-LC: 21\n",
            "I-MT: 22\n",
            "I-OG: 23\n",
            "I-PS: 24\n",
            "I-PT: 25\n",
            "I-QT: 26\n",
            "I-TI: 27\n",
            "I-TM: 28\n",
            "I-TR: 29\n",
            "O: 30\n",
            "\n",
            "장병/NNG: B-CV\t\t//\t14431: 2\n",
            "의/JKG: O\t\t//\t13385: 30\n",
            "이모/NNP: B-CV\t\t//\t13563: 2\n",
            "이자/NNP: O\t\t//\t13718: 30\n",
            "어머니/NNG: B-CV\t\t//\t11650: 2\n",
            "이/VCP: O\t\t//\t13467: 30\n",
            "기/ETN: O\t\t//\t3645: 30\n",
            "도/JX: O\t\t//\t5408: 30\n",
            "한/MM: O\t\t//\t18400: 30\n",
            "김/NNP: B-PS\t\t//\t3847: 9\n",
            "씨/NNB: O\t\t//\t11053: 30\n",
            "는/JX: O\t\t//\t4762: 30\n",
            "사단/NNP: O\t\t//\t8807: 30\n",
            "모범/NNG: O\t\t//\t6825: 30\n",
            "식당/NNP: O\t\t//\t10700: 30\n",
            "선발/NNG: O\t\t//\t9522: 30\n",
            "에/JKB: O\t\t//\t11799: 30\n",
            "평가/NNG: B-CV\t\t//\t17911: 2\n",
            "관/NNG: I-CV\t\t//\t2873: 17\n",
            "으로/JKB: O\t\t//\t13291: 30\n",
            "도/JX: O\t\t//\t5408: 30\n",
            "활약/NNG: O\t\t//\t19209: 30\n",
            "하/XSV: O\t\t//\t18267: 30\n",
            "고/EC: O\t\t//\t2458: 30\n",
            "있/VX: O\t\t//\t14148: 30\n",
            "다/EF: O\t\t//\t4826: 30\n",
            "./SF: O\t\t//\t27: 30\n"
          ]
        }
      ]
    },
    {
      "cell_type": "markdown",
      "source": [
        "# 데이터들을 Tensor로 변환"
      ],
      "metadata": {
        "id": "0Edzi8yN_k5M"
      }
    },
    {
      "cell_type": "code",
      "source": [
        "from torch.utils.data import TensorDataset, DataLoader\n",
        "\n",
        "\"\"\"\n",
        "위에서 구축한 학습 데이터와 검증 데이터를 TensorDataset으로 구축하시오.\n",
        "\"\"\"\n",
        "\n",
        "x_train_tensor = torch.tensor(x_train_idx, dtype=torch.long)\n",
        "y_train_tensor = torch.tensor(y_train_idx, dtype=torch.long)\n",
        "\n",
        "x_valid_tensor = torch.tensor(x_valid_idx, dtype=torch.long)\n",
        "y_valid_tensor = torch.tensor(y_valid_idx, dtype=torch.long)\n",
        "\n",
        "train_dataset = TensorDataset(x_train_tensor, y_train_tensor)\n",
        "valid_dataset = TensorDataset(x_valid_tensor, y_valid_tensor)"
      ],
      "metadata": {
        "id": "9JxNlTdZ_jBA"
      },
      "execution_count": 27,
      "outputs": []
    },
    {
      "cell_type": "markdown",
      "source": [
        "# 실습 - NER을 위한 LSTM 모델 정의"
      ],
      "metadata": {
        "id": "tBcjviTG_s34"
      }
    },
    {
      "cell_type": "markdown",
      "source": [
        "## 순환 신경망 모델 구조\n",
        "\n",
        "![image.png](data:image/png;base64,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)"
      ],
      "metadata": {
        "id": "WuEN-bew_pZP"
      }
    },
    {
      "cell_type": "markdown",
      "source": [
        "> nn.LSTM()"
      ],
      "metadata": {
        "id": "5Yyo7I6vy_pg"
      }
    },
    {
      "cell_type": "markdown",
      "source": [
        "![image.png](data:image/png;base64,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)\n",
        "\n",
        "![image.png](data:image/png;base64,iVBORw0KGgoAAAANSUhEUgAAAKkAAAAeCAYAAABXGj7iAAAAAXNSR0IArs4c6QAAAARnQU1BAACxjwv8YQUAAAAJcEhZcwAAEnQAABJ0Ad5mH3gAAAjRSURBVHhe7Zt/TFvXFce/Wyq8LDPKBF0k01SBZsor1QwjtbfWpunMkoWyCbmljIjEhDBvoXUDhTYRVcgIiVKRihQWD9J4JDWpVocgUSspnirilWKqzA4otjRipsZmSm2NBqsozopeVrbdZ19S4xrsxBg56vv8Ee6Px33n3fu955x7Fb7lvzXzP/DwJDHfpj95eJIWXqQ8SQ8vUp6khxcpT9LDi5Qn6eFFypP08CLlSXp4kd4nsN4h9PTa4af1bxK8SJOZ6/1o3qZCzwRwy3YWLYMu3KZd9z0TBlRua4LxGksbFuauROpoz8HGdjut3W/Y0aXIQYneSevJDTumQ2WFARkNf0TpOtoYD7N+OPQabJGRNZQpUKOzwjdL+xLJrAemIyo8nUfeq1ChxehCQJbryvCHhgy8p1aja2xxoSa9J/UZNUu0MXJQZbajt4Kh9eXAjrY8DYyTtBorM1Z07u1HzjEdqsRC2hgf7nMvYveVArz9kR0jf+mAbEyD3yV8w7KwtCjRtUqD8zby3nfVgL4MhwaCSYtQrMaJYzkw7dXCNhNoikgcIvXB3Eh2ZGcful5R0p2ixpmQXcF67TAN2OGbtMOo1+KM0Qp3aFI12Yea8EW80oqNea1wkPFNuj64/kPa9CrSRsYPtJNxr/WhZac82Ea8QuXRIfJ0NKi9RvqkoxsliiZi0+uoLJSSsaQoP3wR3jvexQ/3YB8sE9xPAzo6DTCNzX/L1yOLD8aXcoLvION3XJ4ibUNoLuRsp+1RYeE42QRLUROqcwW0jcJ6YNHVEbu58eSo1NmDXikarBU9x1nU1ighWkHqQgalNXUQaPUwx5jkBuZ8lwJPzs15Yz+8tG9BrhNt9CpRu1sKIffeNfmorVfC1GbA3PYQ5GpwYPNFNJ9c+Fvi8qT+aR9s/2Ah29+HD0ftOK8RoFOthYMu9C2bDvt/r8ZzO3VwfsFivI9M8FYiyqhfx5GGQrUSAs8QUNGNETL+yGg9xOTz3qlpgveXZ4NtA2fw8tYs8nR0OHvv8N8bcE/b4V2twokLVowMaiEZrUPLhblnXDC+3IS95cVoHvAAn1vwplqBEiLKmIQhVuGFtTfhRj4OmDjb7WgvjsFKIiiTnkHVthyESRT4uxOs7CB6SUQYMdYj9W01Oq/QvsUYt8I4IwUTmjasexQSXITTTeuLMa5DuaoP6XuM+Jibc/M57CvKQjQf73NY4JAxeDTkQwTrGciJ83LfWQoBxBUaMHoDhhfYMHGHe8nTm8GsDpZFsgJIZtxwcw5kjsfq8OcLWuyrrsfhLiMOb7Kiua0/jlMqC783A+LsjGB1JSmLg2XWoUUJ8TD7zbF4LA45CjdlQBDwLlIoNoF4zk+DXZTiVjNOH6rHC69p8YFOQ7x6A94Zo50JgL1sQY8sH1I6p/PIK0BBNpXG2qegyGPh/mf0b/V/5iHizgKdMcpDyJSx8H4WbSX8MJMoyO58DVW59N2CNDA/ZaKK9MakC1gf5kDWZCGTOABvqEZW/wRyWT9sjsjbP/E5qUAQFAHHCuIdn/01MHAVzrtI2uXrHqIlDgYKtQBdh5rQc8kFX8h3CcQa9I5acFgRi1+NDcF3aIEj+xnseNwDm5N41pjJROYaWowBH1lYQXZskWF5cME5SNYgO5PWE0EaNvw4gwj3Fq3PZ/kPTg9w/0zB/0Wgdg+Q8PDbbpwqE8B0sAxbnpBjNzkAxBSC44YoloQuz/S9x4FoTF23QiIK3ZTxI0xPB4ZdmL+1PoV7WADRD5bmYBaJB9OygE+II6H1AGQTupEFETEpFO7Z8Cg2x7KL1P8vMlUiYiQ3Nw9wyQqR14JelcXNf9NiKCuEYIobcNpkxYcdSnjatYg5wsfD7A1MkRwu52EaOFOI/V8usj1uE/tpMVbS10ph80ZerHvmkVwUwgr7NVrnmLgKG5QQb6D1BckCw6VBY7Ekr/NJY3IgGrbjasjJnf3ECUu2HExYqPB4rWER8ysSL9LP/bgxt47X+9GitUBe/SwJ2gSye8QiK8wf0z0+7YTRaAmWAwiQ+n0BXHTR2BluIHLCNZIDT+iVBclL079Hy0vMzSnqNbl7xlNH0JGiRml+0Ptk/rAA+OsQbNwjsyS/u/Qu3hsNdAX5bipSib0ebgORfpbbjJP9qJFJUd4Z+QAmepgBOxbmfeJFWIDtmtvo1JJTdcBWD4ztx8BqlJBzfmJRm4SQlakh6GxA2yU6F6wPzkvO6OeKDWXkUNuPtuNDwTtZvxWdrX0o3FlEkqBQfHCPscS7Rl7ExIt0rBXlTwSvYDYWH8HU8904WjS3jRhsP1oPdCkDV0BbDr6PlPVSpG14kPaTQ3Lx65B8pA78/i92nYWT9cN7WYs9RcExf3XiNn7TXQcJN9nj3Xd5cIqOcS+96pKQtMKchTe0Goi5dxGEP9PgjSfteHUT6d+sRsd4BiRSkk+uCvYjrQDVNX60bCb9TxWiZZDYlZ6P6pekcOt0kb3/j6QoHR6CdZrWlwim4k9oz7Zgz1bOlh0wZ2vx1tydcRSbuFz/rZPPwHO0MDgXiufR8r4rhsOvEIpGA3Z8qcNzEvJ7xeQAVmFA48/DUozpv8EyXAbZ43Riw0jo3zhxF/FbBuToPVQELgVJEQq/OkQlPdxFvAo4bkHVY6S6IgVCYeRJvGsmDCjX+NF4QR2MKGE4Tynxqr8JvTURrqEiwN3XVupp5WuocDpwdReFKDZFYkneS3y3rVWJ5tRjOK+O/OZlEGkBPjiuTKLTaqxQkZ6yozaXNi0FXKh9pQ7uim4y7gISnCHvLm8CDhgWfmYpicWmBMFeIZF2P7DvXD0kK2ljGMt/uv+G4z7XCndJx+JiWJmDWq0K7joVOi5HD6rxEpNNCcBP0rZddW6UtmsWFChHYkW6Kh3MmlRauf9Iy2aQtsQzlFl2DLWyGOKKSIl2fQWmWl/EmQnaliBitmkJ4f4DzZ7WKWzXa1H6yOKbg/+7e56khw/3PEkPL1KepIcXKU/Sw4uUJ+nhRcqT5AD/B0MkUDMy27CdAAAAAElFTkSuQmCC)\n",
        "\n",
        "![image.png](data:image/png;base64,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)"
      ],
      "metadata": {
        "id": "l8CkqWvCynt4"
      }
    },
    {
      "cell_type": "code",
      "source": [
        "import torch.nn as nn\n",
        "\n",
        "class BasicLSTMForNER(nn.Module):\n",
        "    def __init__(self, n_tokens, embedding_dim, max_seq_length, n_labels):\n",
        "        super(BasicLSTMForNER, self).__init__()\n",
        "        \"\"\"\n",
        "        nn.Embedding()\n",
        "        nn.LSTM()\n",
        "        nn.Linear()\n",
        "        을 사용하시오.\n",
        "        \"\"\"\n",
        "\n",
        "        self.embedding = nn.Embedding(n_tokens, embedding_dim)\n",
        "        self.lstm = nn.LSTM(input_size=embedding_dim, hidden_size=embedding_dim, batch_first=True)\n",
        "        self.out = nn.Linear(embedding_dim, n_labels)\n",
        "\n",
        "\n",
        "    def forward(self, x_train):\n",
        "        out = None\n",
        "        \"\"\"\n",
        "        forward 함수를 구축하시오.\n",
        "        \"\"\"\n",
        "        # x_train shape: (B, L)\n",
        "        embedded_seq = self.embedding(x_train) # shape: (B, L, D)\n",
        "        last_hidden_state, _ = self.lstm(embedded_seq)\n",
        "        out = self.out(last_hidden_state)\n",
        "\n",
        "        return out # shape: (B, L=149, C=31)"
      ],
      "metadata": {
        "id": "MxVBRYkP_mF4"
      },
      "execution_count": 28,
      "outputs": []
    },
    {
      "cell_type": "markdown",
      "source": [
        "# 모델 선언"
      ],
      "metadata": {
        "id": "J_TB-xs__4i1"
      }
    },
    {
      "cell_type": "code",
      "source": [
        "embedding_dim = 64\n",
        "\n",
        "model = BasicLSTMForNER(n_tokens, embedding_dim, max_seq_length, n_labels)\n",
        "model.to(device)"
      ],
      "metadata": {
        "id": "6bMjm0i-_3Eb",
        "outputId": "46fd838e-2645-416e-e78d-18a15f2651b8",
        "colab": {
          "base_uri": "https://localhost:8080/"
        }
      },
      "execution_count": 29,
      "outputs": [
        {
          "output_type": "execute_result",
          "data": {
            "text/plain": [
              "BasicLSTMForNER(\n",
              "  (embedding): Embedding(19479, 64)\n",
              "  (lstm): LSTM(64, 64, batch_first=True)\n",
              "  (out): Linear(in_features=64, out_features=31, bias=True)\n",
              ")"
            ]
          },
          "metadata": {},
          "execution_count": 29
        }
      ]
    },
    {
      "cell_type": "markdown",
      "source": [
        "# 학습"
      ],
      "metadata": {
        "id": "AJetdhJvAEAy"
      }
    },
    {
      "cell_type": "code",
      "source": [
        "from torch.optim import Adam\n",
        "from tqdm import tqdm\n",
        "\n",
        "\"\"\"\n",
        "학습 프로세스를 구현하시오.\n",
        "\"\"\"\n",
        "learning_rate = 0.01\n",
        "n_epochs = 10\n",
        "train_batch_size = 32\n",
        "valid_batch_size = 8\n",
        "\n",
        "criterion = torch.nn.CrossEntropyLoss()\n",
        "optimizer = Adam(model.parameters(), lr=learning_rate)\n",
        "\n",
        "train_dataloader = DataLoader(\n",
        "    dataset=train_dataset,\n",
        "    batch_size=train_batch_size,\n",
        "    shuffle=True,\n",
        "    drop_last=False,\n",
        ")\n",
        "\n",
        "valid_dataloader = DataLoader(\n",
        "    dataset=valid_dataset,\n",
        "    batch_size=valid_batch_size,\n",
        "    shuffle=False,\n",
        "    drop_last=False,\n",
        ")\n",
        "\n",
        "min_loss = 9e+16\n",
        "\n",
        "for epoch in range(n_epochs):\n",
        "    model.train()\n",
        "\n",
        "    for step, batch in enumerate(tqdm(train_dataloader, position=0, desc=f\"{epoch+1} Epoch...\")):\n",
        "        input, label = tuple(b.to(device) for b in batch)\n",
        "\n",
        "        predict = model(input) # (B, L, C) -> (B * L, C)\n",
        "        # label shape: (B, L,) -> (B * L, )\n",
        "        loss = criterion(predict.view(-1, len(label_set)), label.view(-1))\n",
        "        loss.backward()\n",
        "\n",
        "        optimizer.step()\n",
        "        optimizer.zero_grad()\n",
        "\n",
        "    model.eval()\n",
        "    total_valid_loss = .0\n",
        "    with torch.no_grad():\n",
        "        for valid_step, valid_batch in enumerate(valid_dataloader):\n",
        "            valid_input, valid_label = tuple(b.to(device) for b in batch)\n",
        "\n",
        "            valid_predict = model(valid_input)\n",
        "            valid_loss = criterion(valid_predict.view(-1, len(label_set)), valid_label.view(-1))\n",
        "\n",
        "            total_valid_loss += valid_loss.item()\n",
        "\n",
        "        if total_valid_loss < min_loss:\n",
        "            torch.save(model.state_dict(), os.path.join('./model_rand_embed.bin'))\n",
        "            min_loss = total_valid_loss\n",
        ""
      ],
      "metadata": {
        "id": "hWneAfaN_7la",
        "outputId": "d975595f-7a18-4cef-9337-20fc50c03d04",
        "colab": {
          "base_uri": "https://localhost:8080/"
        }
      },
      "execution_count": 30,
      "outputs": [
        {
          "output_type": "stream",
          "name": "stderr",
          "text": [
            "1 Epoch...: 100%|██████████| 188/188 [00:01<00:00, 107.01it/s]\n",
            "2 Epoch...: 100%|██████████| 188/188 [00:00<00:00, 345.74it/s]\n",
            "3 Epoch...: 100%|██████████| 188/188 [00:00<00:00, 354.43it/s]\n",
            "4 Epoch...: 100%|██████████| 188/188 [00:00<00:00, 343.76it/s]\n",
            "5 Epoch...: 100%|██████████| 188/188 [00:00<00:00, 345.64it/s]\n",
            "6 Epoch...: 100%|██████████| 188/188 [00:00<00:00, 356.92it/s]\n",
            "7 Epoch...: 100%|██████████| 188/188 [00:00<00:00, 343.72it/s]\n",
            "8 Epoch...: 100%|██████████| 188/188 [00:00<00:00, 348.92it/s]\n",
            "9 Epoch...: 100%|██████████| 188/188 [00:00<00:00, 357.61it/s]\n",
            "10 Epoch...: 100%|██████████| 188/188 [00:00<00:00, 352.93it/s]\n"
          ]
        }
      ]
    },
    {
      "cell_type": "markdown",
      "source": [
        "# 테스트 및 성능 평가"
      ],
      "metadata": {
        "id": "okkpKh-8d7fd"
      }
    },
    {
      "cell_type": "code",
      "source": [
        "model.load_state_dict(torch.load('./model_rand_embed.bin'))"
      ],
      "metadata": {
        "id": "mejJbmzMB4I0",
        "outputId": "7226f4ce-1fe8-4a58-fecc-edd546d98dd2",
        "colab": {
          "base_uri": "https://localhost:8080/"
        }
      },
      "execution_count": 31,
      "outputs": [
        {
          "output_type": "execute_result",
          "data": {
            "text/plain": [
              "<All keys matched successfully>"
            ]
          },
          "metadata": {},
          "execution_count": 31
        }
      ]
    },
    {
      "cell_type": "code",
      "source": [
        "model.load_state_dict(torch.load('./model_rand_embed.bin'))\n",
        "\n",
        "x_test, y_test = formalize_inputs(test_raw)\n",
        "\n",
        "x_test_idx = convert_token_to_idx(x_test, token2idx, max_seq_length)\n",
        "y_test_idx = convert_label_to_idx(y_test, label2idx, max_seq_length)\n",
        "\n",
        "x_test_tensor = torch.tensor([x for x in x_test_idx], dtype=torch.long)\n",
        "y_test_tensor = torch.tensor([y for y in y_test_idx], dtype=torch.long)\n",
        "\n",
        "test_dataset = TensorDataset(x_test_tensor, y_test_tensor)\n",
        "\n",
        "test_batch_size = 8\n",
        "test_dataloader = DataLoader(dataset=test_dataset, batch_size=test_batch_size, shuffle=True)\n",
        "\n",
        "all_preds = list()\n",
        "all_labels = list()\n",
        "\n",
        "model.eval()\n",
        "with torch.no_grad():\n",
        "    for test_batch in tqdm(test_dataloader, position=0, desc=\"Test...\"):\n",
        "        test_x, test_y = tuple(b.to(device) for b in test_batch)\n",
        "        test_y_preds = model(test_x)\n",
        "\n",
        "        predicted_labels = list()\n",
        "        true_labels = list()\n",
        "        for pred_idx, true_idx in zip(torch.argmax(test_y_preds, dim=-1)[test_y != -100], test_y[test_y != -100]):\n",
        "            predicted_labels.append(idx2label[pred_idx.item()])\n",
        "            true_labels.append(idx2label[true_idx.item()])\n",
        "\n",
        "        all_preds.append(predicted_labels)\n",
        "        all_labels.append(true_labels)"
      ],
      "metadata": {
        "id": "34ANJvR_ASub",
        "outputId": "73378619-1067-4f74-e694-7af980143628",
        "colab": {
          "base_uri": "https://localhost:8080/"
        }
      },
      "execution_count": 32,
      "outputs": [
        {
          "output_type": "stream",
          "name": "stderr",
          "text": [
            "Test...: 100%|██████████| 250/250 [00:01<00:00, 154.28it/s]\n"
          ]
        }
      ]
    },
    {
      "cell_type": "markdown",
      "source": [
        "![image.png](data:image/png;base64,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)"
      ],
      "metadata": {
        "id": "vgq8KGJ_hTog"
      }
    },
    {
      "cell_type": "markdown",
      "source": [
        "![image.png](data:image/png;base64,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)"
      ],
      "metadata": {
        "id": "o5EAUhSYq6Br"
      }
    },
    {
      "cell_type": "markdown",
      "source": [
        "![image.png](data:image/png;base64,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)"
      ],
      "metadata": {
        "id": "ix-MrepHhyFn"
      }
    },
    {
      "cell_type": "markdown",
      "source": [
        "# 성능 평가 함수"
      ],
      "metadata": {
        "id": "MQ6AVzDWgFN2"
      }
    },
    {
      "cell_type": "code",
      "source": [
        "from collections import defaultdict\n",
        "\n",
        "def get_entity_spans(seq):\n",
        "    if any(isinstance(s, list) for s in seq):\n",
        "        seq = [item for sublist in seq for item in sublist + ['O']]\n",
        "\n",
        "    pre_bio = 'O'\n",
        "    pre_ne_type = ''\n",
        "    begin_offset = 0\n",
        "    start_entity = False\n",
        "    spans = list()\n",
        "\n",
        "    for i, label in enumerate(seq + ['O']):\n",
        "        cur_bio = label[0]\n",
        "        cur_ne_type = label.split('-')[-1]\n",
        "\n",
        "        if (pre_bio == 'B' and (cur_bio == 'B' or cur_bio == 'O' or (cur_bio == 'I' and cur_ne_type != pre_ne_type))) and start_entity:\n",
        "            spans.append((pre_ne_type, begin_offset, i-1))\n",
        "        elif (pre_bio == 'I' and (cur_bio == 'B' or cur_bio == 'O' or (cur_bio == 'I' and cur_ne_type != pre_ne_type))) and start_entity:\n",
        "            spans.append((pre_ne_type, begin_offset, i-1))\n",
        "\n",
        "        if cur_bio == 'B':\n",
        "            begin_offset = i\n",
        "            start_entity = True\n",
        "\n",
        "        pre_bio = cur_bio\n",
        "        pre_ne_type = cur_ne_type\n",
        "\n",
        "    return spans"
      ],
      "metadata": {
        "id": "AghyLnvBgGo6"
      },
      "execution_count": 34,
      "outputs": []
    },
    {
      "cell_type": "code",
      "source": [
        "def precision_score(y_true, y_pred):\n",
        "    score = None\n",
        "    \"\"\"\n",
        "    위의 get_entity_spans 함수를 이용해 precision score를 구하시오.\n",
        "    \"\"\"\n",
        "\n",
        "    ne_label = set(get_entity_spans(y_true))\n",
        "    ne_pred = set(get_entity_spans(y_pred))\n",
        "\n",
        "    score = len(ne_label & ne_pred) / len(ne_pred) if len(ne_pred) > 0 else 0\n",
        "\n",
        "    return score\n",
        "\n",
        "def recall_score(y_true, y_pred):\n",
        "    score = None\n",
        "    \"\"\"\n",
        "    위의 get_entity_spans 함수를 이용해 precision score를 구하시오.\n",
        "    \"\"\"\n",
        "\n",
        "    ne_label = set(get_entity_spans(y_true))\n",
        "    ne_pred = set(get_entity_spans(y_pred))\n",
        "\n",
        "    score = len(ne_label & ne_pred) / len(ne_label) if len(ne_label) > 0 else 0\n",
        "\n",
        "    return score\n",
        "\n",
        "def f1_score(p, r):\n",
        "    score = 2 * p * r / (p + r) if p + r > 0 else 0\n",
        "\n",
        "    return score"
      ],
      "metadata": {
        "id": "6GZpeQZyvkE8"
      },
      "execution_count": 37,
      "outputs": []
    },
    {
      "cell_type": "markdown",
      "source": [
        "# 성능 평가"
      ],
      "metadata": {
        "id": "zbJdXSw7f4ky"
      }
    },
    {
      "cell_type": "code",
      "source": [
        "precision = precision_score(all_labels, all_preds)\n",
        "recall = recall_score(all_labels, all_preds)\n",
        "f1 = f1_score(precision, recall)\n",
        "\n",
        "print(\"Precision score: {:.3f}%\".format(precision*100))\n",
        "print(\"Recall score: {:.3f}%\".format(recall*100))\n",
        "print(\"F1 score: {:.3f}%\".format(f1*100))"
      ],
      "metadata": {
        "id": "ds1Abl-ueHY3",
        "outputId": "8c7c00cd-b1c3-460f-c2f5-06b7fa4d8d30",
        "colab": {
          "base_uri": "https://localhost:8080/"
        }
      },
      "execution_count": 39,
      "outputs": [
        {
          "output_type": "stream",
          "name": "stdout",
          "text": [
            "Precision score: 53.550%\n",
            "Recall score: 54.778%\n",
            "F1 score: 54.157%\n"
          ]
        }
      ]
    },
    {
      "cell_type": "markdown",
      "source": [
        "# 사전학습 된 단어 임베딩을 활용한 NER"
      ],
      "metadata": {
        "id": "vZTckgLysLrC"
      }
    },
    {
      "cell_type": "markdown",
      "source": [
        "# 사전학습 된 단어 임베딩 및 단어 사전 로딩"
      ],
      "metadata": {
        "id": "J1wg5-JNsVoj"
      }
    },
    {
      "cell_type": "code",
      "source": [
        "with open('./NER/glove.npy', 'rb') as fin:\n",
        "    glove = np.load(fin)\n",
        "\n",
        "glove_tensor = torch.tensor([x for x in glove], dtype=torch.float)\n",
        "print(\"The number of pre-trained words: {}\".format(len(glove_tensor)))\n",
        "embedding_dim = glove_tensor.size(1)\n",
        "\n",
        "token2idx = dict()\n",
        "with open('./NER/word.dict', 'r') as fin:\n",
        "    for line in fin.readlines():\n",
        "        token, idx = line.replace(\"\\n\", \"\").split(\"\\t\")\n",
        "        token2idx[token] = int(idx)\n",
        "n_tokens = len(token2idx)"
      ],
      "metadata": {
        "id": "_IYIFw1NsPZh",
        "outputId": "82871975-4f9f-4a8d-e354-042f65bc57c6",
        "colab": {
          "base_uri": "https://localhost:8080/"
        }
      },
      "execution_count": 40,
      "outputs": [
        {
          "output_type": "stream",
          "name": "stdout",
          "text": [
            "The number of pre-trained words: 17831\n"
          ]
        },
        {
          "output_type": "stream",
          "name": "stderr",
          "text": [
            "<ipython-input-40-08d3d25fb7a6>:4: UserWarning: Creating a tensor from a list of numpy.ndarrays is extremely slow. Please consider converting the list to a single numpy.ndarray with numpy.array() before converting to a tensor. (Triggered internally at ../torch/csrc/utils/tensor_new.cpp:245.)\n",
            "  glove_tensor = torch.tensor([x for x in glove], dtype=torch.float)\n"
          ]
        }
      ]
    },
    {
      "cell_type": "markdown",
      "source": [
        "# 입력 텐서 구축"
      ],
      "metadata": {
        "id": "fGYrlS-Ts-E_"
      }
    },
    {
      "cell_type": "code",
      "source": [
        "\"\"\"\n",
        "입력 텐서 구축 - 위와 동일\n",
        "\"\"\"\n",
        "x_train_idx = convert_token_to_idx(x_train, token2idx, max_seq_length)\n",
        "x_valid_idx = convert_token_to_idx(x_valid, token2idx, max_seq_length)\n",
        "\n",
        "x_train_tensor = torch.tensor(x_train_idx, dtype=torch.long)\n",
        "y_train_tensor = torch.tensor(y_train_idx, dtype=torch.long)\n",
        "\n",
        "x_valid_tensor = torch.tensor(x_valid_idx, dtype=torch.long)\n",
        "y_valid_tensor = torch.tensor(y_valid_idx, dtype=torch.long)\n",
        "\n",
        "train_dataset = TensorDataset(x_train_tensor, y_train_tensor)\n",
        "valid_dataset = TensorDataset(x_valid_tensor, y_valid_tensor)"
      ],
      "metadata": {
        "id": "527v0S-8sqW3"
      },
      "execution_count": 41,
      "outputs": []
    },
    {
      "cell_type": "markdown",
      "source": [
        "# 모델 정의"
      ],
      "metadata": {
        "id": "BIttDv16tD0C"
      }
    },
    {
      "cell_type": "code",
      "source": [
        "\"\"\"\n",
        "모델 정의 및 선언 - 위와 동일\n",
        "\"\"\"\n",
        "class GloveLSTMForNER(nn.Module):\n",
        "    def __init__(self, pretrained_embedding, embedding_dim, max_seq_length, n_labels):\n",
        "        super(GloveLSTMForNER, self).__init__()\n",
        "        \"\"\"\n",
        "        nn.Embedding()\n",
        "        nn.LSTM()\n",
        "        nn.Linear()\n",
        "        을 사용하시오.\n",
        "        \"\"\"\n",
        "\n",
        "        self.embedding = nn.Embedding.from_pretrained(pretrained_embedding)\n",
        "        self.lstm = nn.LSTM(\n",
        "            input_size=embedding_dim,\n",
        "            hidden_size=embedding_dim,\n",
        "            num_layers=4,\n",
        "            batch_first=True,\n",
        "            bidirectional=True,\n",
        "        )\n",
        "        self.out = nn.Linear(embedding_dim * 2, n_labels)\n",
        "\n",
        "\n",
        "    def forward(self, x_train):\n",
        "        out = None\n",
        "        \"\"\"\n",
        "        forward 함수를 구축하시오.\n",
        "        \"\"\"\n",
        "        # x_train shape: (B, L)\n",
        "        embedded_seq = self.embedding(x_train) # shape: (B, L, D)\n",
        "        last_hidden_state, _ = self.lstm(embedded_seq)\n",
        "        out = self.out(last_hidden_state)\n",
        "\n",
        "        return out # shape: (B, L=149, C=31)"
      ],
      "metadata": {
        "id": "ti5FpXltsz8t"
      },
      "execution_count": 54,
      "outputs": []
    },
    {
      "cell_type": "markdown",
      "source": [
        "# 학습"
      ],
      "metadata": {
        "id": "QN21S-4Stl_i"
      }
    },
    {
      "cell_type": "code",
      "source": [
        "\"\"\"\n",
        "학습 프로세스 - 위와 동일\n",
        "\"\"\"\n",
        "from torch.optim import Adam\n",
        "from tqdm import tqdm\n",
        "\n",
        "\"\"\"\n",
        "학습 프로세스를 구현하시오.\n",
        "\"\"\"\n",
        "\n",
        "model = GloveLSTMForNER(glove_tensor, embedding_dim, max_seq_length, n_labels)\n",
        "model.to(device)\n",
        "\n",
        "learning_rate = 0.01\n",
        "n_epochs = 10\n",
        "train_batch_size = 32\n",
        "valid_batch_size = 8\n",
        "\n",
        "criterion = torch.nn.CrossEntropyLoss()\n",
        "optimizer = Adam(model.parameters(), lr=learning_rate)\n",
        "\n",
        "train_dataloader = DataLoader(\n",
        "    dataset=train_dataset,\n",
        "    batch_size=train_batch_size,\n",
        "    shuffle=True,\n",
        "    drop_last=False,\n",
        ")\n",
        "\n",
        "valid_dataloader = DataLoader(\n",
        "    dataset=valid_dataset,\n",
        "    batch_size=valid_batch_size,\n",
        "    shuffle=False,\n",
        "    drop_last=False,\n",
        ")\n",
        "\n",
        "min_loss = 9e+16\n",
        "\n",
        "for epoch in range(n_epochs):\n",
        "    model.train()\n",
        "\n",
        "    for step, batch in enumerate(tqdm(train_dataloader, position=0, desc=f\"{epoch+1} Epoch...\")):\n",
        "        input, label = tuple(b.to(device) for b in batch)\n",
        "\n",
        "        predict = model(input) # (B, L, C) -> (B * L, C)\n",
        "        # label shape: (B, L,) -> (B * L, )\n",
        "        loss = criterion(predict.view(-1, len(label_set)), label.view(-1))\n",
        "        loss.backward()\n",
        "\n",
        "        optimizer.step()\n",
        "        optimizer.zero_grad()\n",
        "\n",
        "    model.eval()\n",
        "    total_valid_loss = .0\n",
        "    with torch.no_grad():\n",
        "        for valid_step, valid_batch in enumerate(valid_dataloader):\n",
        "            valid_input, valid_label = tuple(b.to(device) for b in batch)\n",
        "\n",
        "            valid_predict = model(valid_input)\n",
        "            valid_loss = criterion(valid_predict.view(-1, len(label_set)), valid_label.view(-1))\n",
        "\n",
        "            total_valid_loss += valid_loss.item()\n",
        "\n",
        "        if total_valid_loss < min_loss:\n",
        "            torch.save(model.state_dict(), os.path.join('./model_glove_embed.bin'))\n",
        "            min_loss = total_valid_loss\n",
        ""
      ],
      "metadata": {
        "id": "4fAVdg3ztlPJ",
        "outputId": "5089e185-8227-454e-f7cc-dc39d99d191a",
        "colab": {
          "base_uri": "https://localhost:8080/"
        }
      },
      "execution_count": 55,
      "outputs": [
        {
          "output_type": "stream",
          "name": "stderr",
          "text": [
            "1 Epoch...: 100%|██████████| 188/188 [00:01<00:00, 152.48it/s]\n",
            "2 Epoch...: 100%|██████████| 188/188 [00:01<00:00, 164.26it/s]\n",
            "3 Epoch...: 100%|██████████| 188/188 [00:01<00:00, 141.08it/s]\n",
            "4 Epoch...: 100%|██████████| 188/188 [00:01<00:00, 152.87it/s]\n",
            "5 Epoch...: 100%|██████████| 188/188 [00:01<00:00, 161.75it/s]\n",
            "6 Epoch...: 100%|██████████| 188/188 [00:01<00:00, 157.16it/s]\n",
            "7 Epoch...: 100%|██████████| 188/188 [00:01<00:00, 160.80it/s]\n",
            "8 Epoch...: 100%|██████████| 188/188 [00:01<00:00, 152.81it/s]\n",
            "9 Epoch...: 100%|██████████| 188/188 [00:01<00:00, 150.89it/s]\n",
            "10 Epoch...: 100%|██████████| 188/188 [00:01<00:00, 158.98it/s]\n"
          ]
        }
      ]
    },
    {
      "cell_type": "markdown",
      "source": [
        "# 테스트 및 성능 평가"
      ],
      "metadata": {
        "id": "QltEmPIltwjv"
      }
    },
    {
      "cell_type": "code",
      "source": [
        "\"\"\"\n",
        "테스트 및 성능 평가 - 위와 동일\n",
        "\"\"\"\n",
        "model.load_state_dict(torch.load('./model_glove_embed.bin'))\n",
        "\n",
        "x_test, y_test = formalize_inputs(test_raw)\n",
        "\n",
        "x_test_idx = convert_token_to_idx(x_test, token2idx, max_seq_length)\n",
        "y_test_idx = convert_label_to_idx(y_test, label2idx, max_seq_length)\n",
        "\n",
        "x_test_tensor = torch.tensor([x for x in x_test_idx], dtype=torch.long)\n",
        "y_test_tensor = torch.tensor([y for y in y_test_idx], dtype=torch.long)\n",
        "\n",
        "test_dataset = TensorDataset(x_test_tensor, y_test_tensor)\n",
        "\n",
        "test_batch_size = 8\n",
        "test_dataloader = DataLoader(dataset=test_dataset, batch_size=test_batch_size, shuffle=True)\n",
        "\n",
        "all_preds = list()\n",
        "all_labels = list()\n",
        "\n",
        "model.eval()\n",
        "with torch.no_grad():\n",
        "    for test_batch in tqdm(test_dataloader, position=0, desc=\"Test...\"):\n",
        "        test_x, test_y = tuple(b.to(device) for b in test_batch)\n",
        "        test_y_preds = model(test_x)\n",
        "\n",
        "        predicted_labels = list()\n",
        "        true_labels = list()\n",
        "        for pred_idx, true_idx in zip(torch.argmax(test_y_preds, dim=-1)[test_y != -100], test_y[test_y != -100]):\n",
        "            predicted_labels.append(idx2label[pred_idx.item()])\n",
        "            true_labels.append(idx2label[true_idx.item()])\n",
        "\n",
        "        all_preds.append(predicted_labels)\n",
        "        all_labels.append(true_labels)"
      ],
      "metadata": {
        "id": "AImZUoVKtyWh",
        "outputId": "bc83b7e8-4e81-40ee-bac7-6ef74230cb92",
        "colab": {
          "base_uri": "https://localhost:8080/"
        }
      },
      "execution_count": 56,
      "outputs": [
        {
          "output_type": "stream",
          "name": "stderr",
          "text": [
            "Test...: 100%|██████████| 250/250 [00:02<00:00, 107.09it/s]\n"
          ]
        }
      ]
    },
    {
      "cell_type": "code",
      "source": [
        "precision = precision_score(all_labels, all_preds)\n",
        "recall = recall_score(all_labels, all_preds)\n",
        "f1 = f1_score(precision, recall)\n",
        "\n",
        "print(\"Precision score: {:.3f}%\".format(precision*100))\n",
        "print(\"Recall score: {:.3f}%\".format(recall*100))\n",
        "print(\"F1 score: {:.3f}%\".format(f1*100))"
      ],
      "metadata": {
        "id": "GEnVph5VJcqw",
        "outputId": "b00545a4-06c5-4bed-f7c0-0b66ade7b532",
        "colab": {
          "base_uri": "https://localhost:8080/"
        }
      },
      "execution_count": 57,
      "outputs": [
        {
          "output_type": "stream",
          "name": "stdout",
          "text": [
            "Precision score: 61.511%\n",
            "Recall score: 58.169%\n",
            "F1 score: 59.793%\n"
          ]
        }
      ]
    },
    {
      "cell_type": "markdown",
      "source": [
        "# 실습 과제\n",
        "\n",
        "##RNN, CNN, MLP 등을 이용하여 본 실습에서 구축한 모델의 성능보다 좋은 성능을 보여주는 모델을 구축하시오.\n",
        "\n",
        "##제출: bonggeun.choi818@gmail.com\n",
        "##제출물: .ipynb 파일"
      ],
      "metadata": {
        "id": "wwh1d8MfmxLa"
      }
    }
  ]
}